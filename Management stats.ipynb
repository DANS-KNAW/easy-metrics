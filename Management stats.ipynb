{
 "cells": [
  {
   "cell_type": "code",
   "execution_count": 67,
   "metadata": {
    "collapsed": false
   },
   "outputs": [
    {
     "name": "stdout",
     "output_type": "stream",
     "text": [
      "/Users/vyacheslavtykhonov/projects/management/logs/statistics.log.2016-09-01\n",
      "/Users/vyacheslavtykhonov/projects/management/logs/statistics.log.2016-09-02\n",
      "/Users/vyacheslavtykhonov/projects/management/logs/statistics.log.2016-09-03\n",
      "/Users/vyacheslavtykhonov/projects/management/logs/statistics.log.2016-09-04\n",
      "/Users/vyacheslavtykhonov/projects/management/logs/statistics.log.2016-09-05\n",
      "/Users/vyacheslavtykhonov/projects/management/logs/statistics.log.2016-09-06\n",
      "/Users/vyacheslavtykhonov/projects/management/logs/statistics.log.2016-09-07\n",
      "/Users/vyacheslavtykhonov/projects/management/logs/statistics.log.2016-09-08\n",
      "/Users/vyacheslavtykhonov/projects/management/logs/statistics.log.2016-09-09\n",
      "/Users/vyacheslavtykhonov/projects/management/logs/statistics.log.2016-09-10\n",
      "/Users/vyacheslavtykhonov/projects/management/logs/statistics.log.2016-09-11\n",
      "/Users/vyacheslavtykhonov/projects/management/logs/statistics.log.2016-09-12\n",
      "/Users/vyacheslavtykhonov/projects/management/logs/statistics.log.2016-09-13\n",
      "/Users/vyacheslavtykhonov/projects/management/logs/statistics.log.2016-09-14\n",
      "/Users/vyacheslavtykhonov/projects/management/logs/statistics.log.2016-09-15\n",
      "/Users/vyacheslavtykhonov/projects/management/logs/statistics.log.2016-09-16\n",
      "/Users/vyacheslavtykhonov/projects/management/logs/statistics.log.2016-09-17\n",
      "/Users/vyacheslavtykhonov/projects/management/logs/statistics.log.2016-09-18\n",
      "/Users/vyacheslavtykhonov/projects/management/logs/statistics.log.2016-09-19\n",
      "/Users/vyacheslavtykhonov/projects/management/logs/statistics.log.2016-09-20\n",
      "/Users/vyacheslavtykhonov/projects/management/logs/statistics.log.2016-09-21\n",
      "/Users/vyacheslavtykhonov/projects/management/logs/statistics.log.2016-09-22\n",
      "/Users/vyacheslavtykhonov/projects/management/logs/statistics.log.2016-09-23\n",
      "/Users/vyacheslavtykhonov/projects/management/logs/statistics.log.2016-09-24\n",
      "/Users/vyacheslavtykhonov/projects/management/logs/statistics.log.2016-09-25\n",
      "/Users/vyacheslavtykhonov/projects/management/logs/statistics.log.2016-09-26\n"
     ]
    }
   ],
   "source": [
    "import re\n",
    "from pymongo import MongoClient\n",
    "from os import walk\n",
    "\n",
    "path = \"/Users/vyacheslavtykhonov/projects/management\"\n",
    "#testfilename = \"statistics.log.2016-09-26\"\n",
    "\n",
    "client = MongoClient()\n",
    "management = client.get_database('management')\n",
    "col = management.data\n",
    "\n",
    "f = []\n",
    "for (dirpath, dirnames, filenames) in walk(\"%s/logs\" % path):\n",
    "    f.extend(filenames)\n",
    "\n",
    "for filename in f:\n",
    "    fullpath = \"%s/logs/%s\" % (path, filename)\n",
    "    outpath = \"%s/reports/%s.sum\" % (path, filename)\n",
    "    print fullpath\n",
    "    file2mongo(fullpath)"
   ]
  },
  {
   "cell_type": "code",
   "execution_count": 68,
   "metadata": {
    "collapsed": true
   },
   "outputs": [],
   "source": [
    "def cleanline(thisline):\n",
    "    l = re.compile(\"\\s+\\;\\s+\").split(thisline)\n",
    "    maininfo = {}\n",
    "    for i in range(0,5):\n",
    "#        print l[i]\n",
    "        maininfo[str(i)] = l[i]\n",
    "    \n",
    "    # date, time and action\n",
    "    attributes = re.search(r\"(\\d{4}\\-\\d+\\-\\d+)\\s+(\\S+)\\,\\d+\\s+\\-\\s+(.+)\", maininfo[\"0\"])\n",
    "    if attributes:\n",
    "        maininfo[\"date\"] = attributes.group(1)\n",
    "        maininfo[\"time\"] = attributes.group(2)\n",
    "        maininfo[\"action\"] = attributes.group(3)\n",
    "        maininfo[\"user\"] = maininfo[\"1\"]\n",
    "        \n",
    "    # datetime - action; user; roles; groups; ip\n",
    "    l = l[5:]\n",
    "    \n",
    "    # dataset description\n",
    "    for item in l:\n",
    "        try:\n",
    "            info = re.compile(\"\\:\\s+\").split(item)\n",
    "            info[1] = info[1].replace('\"', '')\n",
    "            info[1] = re.sub(r'\\)$', '', info[1])\n",
    "            maininfo[info[0]] = info[1]\n",
    "            #print \"%s = %s\" % (info[0], info[1])\n",
    "        except:\n",
    "            skip = item\n",
    "    \n",
    "    return (maininfo, l)\n",
    "\n"
   ]
  },
  {
   "cell_type": "code",
   "execution_count": 69,
   "metadata": {
    "collapsed": false
   },
   "outputs": [],
   "source": [
    "def file2mongo(path):\n",
    "    file = open(fullpath, 'r')\n",
    "    outfile = open(outpath,'w')\n",
    "    lastline = file.readline()\n",
    "\n",
    "\n",
    "    intstats = {}\n",
    "    for lastline in file:\n",
    "        lastline = lastline[:-2]\n",
    "        l = re.compile(\"\\s+\\;\\s+\").split(lastline)\n",
    "        try:\n",
    "            intstats[str(len(l))] = intstats[str(len(l))] + 1\n",
    "        except:\n",
    "            intstats[str(len(l))] = 1\n",
    "    \n",
    "        # Try to recognize datasets\n",
    "        finddataset = re.search(r\"(easy\\-dataset\\:(\\d+))\", lastline) \n",
    "        dataset = '0'\n",
    "        if finddataset:\n",
    "            dataset = finddataset.group(0)\n",
    "        report = \"%s %s %s\\n\" % (str(l[4]), str(len(l)), dataset)\n",
    "    \n",
    "        if (len(l) > 20000):\n",
    "            print str(l)\n",
    "    \n",
    "        (main, newline) = cleanline(lastline)\n",
    "        col.insert_one(main)\n",
    "        outfile.write(report)\n",
    "    outfile.close()\n"
   ]
  },
  {
   "cell_type": "code",
   "execution_count": 70,
   "metadata": {
    "collapsed": false
   },
   "outputs": [
    {
     "name": "stdout",
     "output_type": "stream",
     "text": [
      "Done\n"
     ]
    }
   ],
   "source": [
    "print \"Done\""
   ]
  }
 ],
 "metadata": {
  "kernelspec": {
   "display_name": "Python 2",
   "language": "python",
   "name": "python2"
  },
  "language_info": {
   "codemirror_mode": {
    "name": "ipython",
    "version": 2
   },
   "file_extension": ".py",
   "mimetype": "text/x-python",
   "name": "python",
   "nbconvert_exporter": "python",
   "pygments_lexer": "ipython2",
   "version": "2.7.12"
  }
 },
 "nbformat": 4,
 "nbformat_minor": 0
}
