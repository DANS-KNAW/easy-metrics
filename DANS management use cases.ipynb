{
 "cells": [
  {
   "cell_type": "code",
   "execution_count": 121,
   "metadata": {
    "collapsed": false,
    "scrolled": false
   },
   "outputs": [],
   "source": [
    "import re\n",
    "from pymongo import MongoClient\n",
    "\n",
    "client = MongoClient()\n",
    "logsdb = client.get_database('management')\n",
    "metadatadb = client.get_database('metadata')\n",
    "logscol = logsdb.data\n",
    "metacol = metadatadb.data\n",
    "\n",
    "def get_metadata(ids):\n",
    "    metapipe = { 'DATASET-PID' : {'$in' : ids} } \n",
    "    result = metacol.find( metapipe )\n",
    "    meta = {}\n",
    "    for x in result:\n",
    "        try:\n",
    "            meta[x['DATASET-PID']] = x['EMD:title']\n",
    "#            print x['EMD:identifier']\n",
    "        except:\n",
    "            skip = x['DATASET-PID']\n",
    "    return meta\n",
    "\n",
    "def top_downloaded_files(limit):\n",
    "#    pipe = [{'$match': { 'action': 'DOWNLOAD_FILE_REQUEST'}} , {'$group': {'_id': '$dataset(DATASET_ID', 'count' : { '$sum' : 1 }}}, { '$sort':{'count':-1} },  { '$limit' : limit }]\n",
    "    pipe = [{'$match': { 'action': 'DOWNLOAD_FILE_REQUEST'}} , {'$group': {'_id': '$file(FILE_NAME(0)', 'count' : { '$sum' : 1 }}}, { '$sort':{'count':-1} },  { '$limit' : limit }]\n",
    "    resultdata = logscol.aggregate(pipeline=pipe)\n",
    "    return list(resultdata)\n",
    "\n",
    "def deposited_files_by_user(limit):\n",
    "    pipe = [{'$match': { 'action': 'FILE_DEPOSIT'}} , {'$group': {'_id': '$user', 'count' : { '$sum' : 1 }}}, { '$sort':{'count':-1} },  { '$limit': limit }]\n",
    "    resultdata = logscol.aggregate(pipeline=pipe)\n",
    "    return list(resultdata)\n",
    "\n",
    "def most_downloaded_datasets(limit):\n",
    "    pipe = [{'$group': {'_id': '$dataset(DATASET_ID', 'count' : { '$sum' : 1 }}}, { '$sort':{'count':-1} },  { '$limit' : limit }]\n",
    "    resultdata = logscol.aggregate(pipeline=pipe)\n",
    "    datasets = {}\n",
    "    datalist = []\n",
    "    copy = resultdata\n",
    "    for dataset in resultdata:\n",
    "        datalist.append(dataset['_id'])\n",
    "        datasets[dataset['_id']] = dataset\n",
    "    metadata = get_metadata(datalist)\n",
    "    \n",
    "    for dataset in datalist:\n",
    "        try:\n",
    "            datainfo = datasets[dataset]\n",
    "            datainfo['title'] = metadata[dataset]\n",
    "            datasets[dataset] = datainfo\n",
    "        except:\n",
    "            skip = 'yes'\n",
    "    return datasets"
   ]
  },
  {
   "cell_type": "markdown",
   "metadata": {},
   "source": [
    "#### Top downloaded datasets\n",
    "Easy2 2Aoud: UC 15 (*) \n",
    "For the DANS website: Titles of the most downloaded datasets from the entire collection\n",
    "\n",
    "A download a dataset is defined as a download from a user from one computer one on one dataset one day or several times one or more files download. \n",
    "\n",
    "This definition is identical to the definition of a 'download' in EASY1.\n",
    "Files that are downloaded by a user more than once in a day, are counted more than eemaal.\n",
    "Downloads by users with archivist and / or admin role, are not counted."
   ]
  },
  {
   "cell_type": "code",
   "execution_count": 122,
   "metadata": {
    "collapsed": false
   },
   "outputs": [
    {
     "name": "stdout",
     "output_type": "stream",
     "text": [
      "{u'count': 413, u'_id': u'easy-dataset:33895', 'title': u'Verzamelpagina Archeologie'}\n",
      "{u'count': 549, u'_id': u'easy-dataset:51548', 'title': u\"Thematische collectie: Project 'Long shadow of Sobibor' - beschrijving en alle interviews\"}\n",
      "{u'count': 359, u'_id': u'easy-dataset:64220', 'title': u'WoON2015: release 1.0 - WoonOnderzoek Nederland 2015'}\n",
      "{u'count': 351, u'_id': u'easy-dataset:33871', 'title': u'Voyages of the WIC, 1674-1740'}\n",
      "{u'count': 1451, u'_id': u'easy-dataset:50480', 'title': u\"Sobibor Interviews, interview 02, Alexander 'Sasja' Petsjerski\"}\n",
      "{u'count': 804, u'_id': u'easy-dataset:39351', 'title': u'Dutch slave trade'}\n",
      "{u'count': 404, u'_id': u'easy-dataset:52125', 'title': u'Zandbanenkaart 2012'}\n",
      "{u'count': 1080, u'_id': u'easy-dataset:44426', 'title': u'NLGis shapefiles'}\n",
      "{u'count': 49621, u'_id': None}\n",
      "{u'count': 1986, u'_id': u'easy-dataset:57847', 'title': u'14035252 BUR.WRL.ARC Eindrapportage archeologisch onderzoek natuurvriendelijke oever NBW Lienden (locaties Van Eldik en Van Lent) te Lienden'}\n"
     ]
    }
   ],
   "source": [
    "result = most_downloaded_datasets(10)\n",
    "for line in result:\n",
    "    print result[line]\n",
    "#ids = [\"easy-dataset:58245\", \"easy-dataset:44426\"]\n",
    "#get_metadata(ids)\n",
    "#downloaded_files(5)"
   ]
  },
  {
   "cell_type": "markdown",
   "metadata": {},
   "source": [
    "#### Top downloaded files\n",
    "A download a file is defined as a download from a user from one computer one on one dataset one day or several times one or more files download. \n",
    "\n",
    "Files that are downloaded by a user more than once in a day, are counted more than eemaal.\n",
    "Downloads by users with archivist and / or admin role, are not counted."
   ]
  },
  {
   "cell_type": "code",
   "execution_count": 123,
   "metadata": {
    "collapsed": false
   },
   "outputs": [
    {
     "data": {
      "text/plain": [
       "[{u'_id': u'original/W. Klooster, Ships with cacao, Curacao-Netherlands 1701-1755.csv',\n",
       "  u'count': 31},\n",
       " {u'_id': u'original/Merged_ACDS_1971-2006_20100217.sav', u'count': 22},\n",
       " {u'_id': u'Methodologie ROA schoolverlatersonderzoeken.pdf', u'count': 20},\n",
       " {u'_id': u'2003-05_10.pdf', u'count': 15},\n",
       " {u'_id': u'original/Schoorldam Westfriesedijk naast 29-BOORdefinief.pdf',\n",
       "  u'count': 13},\n",
       " {u'_id': u'original/S120307 IVO-P Einderweg 11 te Uddel DEFINITIEF.pdf',\n",
       "  u'count': 13},\n",
       " {u'_id': u'Documentatie_HBO2014.pdf', u'count': 13},\n",
       " {u'_id': u'HOP11-Bijlage_3_2_afbeeldingen-A1.pdf', u'count': 12},\n",
       " {u'_id': u'original/ETM Data - Study 1.csv', u'count': 12},\n",
       " {u'_id': u'original/Merged_ACDS_1971-2006_20100217.por', u'count': 12}]"
      ]
     },
     "execution_count": 123,
     "metadata": {},
     "output_type": "execute_result"
    }
   ],
   "source": [
    "top_downloaded_files(10)"
   ]
  },
  {
   "cell_type": "markdown",
   "metadata": {},
   "source": [
    "#### Deposited files by user"
   ]
  },
  {
   "cell_type": "code",
   "execution_count": 124,
   "metadata": {
    "collapsed": false
   },
   "outputs": [
    {
     "data": {
      "text/plain": [
       "[{u'_id': u'baac', u'count': 516},\n",
       " {u'_id': u'KasperOArch', u'count': 73},\n",
       " {u'_id': u'mtump', u'count': 54},\n",
       " {u'_id': u'jcichy', u'count': 54},\n",
       " {u'_id': u'nvdsijs', u'count': 32},\n",
       " {u'_id': u'MauriceLipsch', u'count': 24},\n",
       " {u'_id': u'valentijng', u'count': 23},\n",
       " {u'_id': u'SuperE', u'count': 16},\n",
       " {u'_id': u'emiliealsarchivaris', u'count': 15},\n",
       " {u'_id': u'suemoerman', u'count': 15}]"
      ]
     },
     "execution_count": 124,
     "metadata": {},
     "output_type": "execute_result"
    }
   ],
   "source": [
    "deposited_files_by_user(10)"
   ]
  }
 ],
 "metadata": {
  "kernelspec": {
   "display_name": "Python 2",
   "language": "python",
   "name": "python2"
  },
  "language_info": {
   "codemirror_mode": {
    "name": "ipython",
    "version": 2
   },
   "file_extension": ".py",
   "mimetype": "text/x-python",
   "name": "python",
   "nbconvert_exporter": "python",
   "pygments_lexer": "ipython2",
   "version": "2.7.12"
  }
 },
 "nbformat": 4,
 "nbformat_minor": 0
}
